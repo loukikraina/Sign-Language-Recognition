{
 "cells": [
  {
   "cell_type": "code",
   "execution_count": 1,
   "id": "150e00b9",
   "metadata": {},
   "outputs": [],
   "source": [
    "import warnings \n",
    "warnings.filterwarnings('ignore')\n",
    "import numpy as np\n",
    "import cv2\n",
    "import pickle\n",
    "from keras.models import load_model"
   ]
  },
  {
   "cell_type": "code",
   "execution_count": null,
   "id": "a7ff1093",
   "metadata": {},
   "outputs": [],
   "source": [
    "threshold = 0.90\n",
    "cap = cv2.VideoCapture(0)\n",
    "font = cv2.FONT_HERSHEY_COMPLEX\n",
    "\n",
    "\n",
    "model = load_model('asl_model')\n",
    "\n",
    "def load_and_scale_image(image_path):\n",
    "    image = image_utils.load_img(image_path, color_mode=\"grayscale\", target_size=(28,28))\n",
    "    return image\n",
    "\n",
    "\n",
    "def preprocessing(img):\n",
    "    img = img.astype(\"uint8\")\n",
    "    img = cv2.cvtColor(img, cv2.COLOR_BGR2GRAY)\n",
    "    img = cv2.equalizeHist(img)\n",
    "    img = img/255\n",
    "    return image\n",
    "\n",
    "alphabet = \"abcdefghiklmnopqrstuvwxy\"\n",
    "dictionary = {}\n",
    "for i in range(24):\n",
    "    dictionary[i] = alphabet[i]\n",
    "dictionary"
   ]
  },
  {
   "cell_type": "code",
   "execution_count": null,
   "id": "4dcf583a",
   "metadata": {},
   "outputs": [],
   "source": [
    "while True:\n",
    "    sucess, imgOriginal = cap.read()\n",
    "    img = np.asarray(imgOriginal)\n",
    "    cv2.rectangle(img, (100,100), (300, 300), (50,50,255), 2)\n",
    "    crop_img = img[100:300, 100:300]\n",
    "    img = cv2.resize(crop_img, (28,28))\n",
    "    img = preprocessing(img)\n",
    "    img = img.reshape(1, 28, 28, 1)\n",
    "    cv2.putText(imgOriginal, \"Class\", (20,35), font, 0.75, (0,0,255), 2, cv2.LINE_AA)\n",
    "    cv2.putText(imgOriginal, \"Probability\", (20,75), font, 0.75, (255,0,255), 2, cv2.LINE_AA)\n",
    "    prediction = model.predict(img)\n",
    "    predicted_letter = dictionary[np.argmax(prediction)]\n",
    "    probabilityVal = np.amax(prediction)\n",
    "    \n",
    "    if probabilityVal>threshold:\n",
    "        cv2.putText(imgOriginal, predicted_letter, (120,35), font, 0.75, (0,0,255), 2, cv2.LINE_AA)\n",
    "        cv2.putText(imgOriginal, str(round(probabilityVal*100,2))+\"%\", (180,75), font, 0.75, (255,0,255), 2, cv2.LINE_AA)\n",
    "    cv2.imshow(\"Result\", imgOriginal)\n",
    "    cv2.imshow(\"Cropped_img\", crop_img)\n",
    "    k = cv2.waitKey(1)\n",
    "    if k==ord('q'):\n",
    "        break\n",
    "    "
   ]
  },
  {
   "cell_type": "code",
   "execution_count": null,
   "id": "aadce460",
   "metadata": {},
   "outputs": [],
   "source": [
    "cap.release()\n",
    "cv2.destroyAllWindows()"
   ]
  }
 ],
 "metadata": {
  "kernelspec": {
   "display_name": "Python 3",
   "language": "python",
   "name": "python3"
  },
  "language_info": {
   "codemirror_mode": {
    "name": "ipython",
    "version": 3
   },
   "file_extension": ".py",
   "mimetype": "text/x-python",
   "name": "python",
   "nbconvert_exporter": "python",
   "pygments_lexer": "ipython3",
   "version": "3.9.4"
  }
 },
 "nbformat": 4,
 "nbformat_minor": 5
}
