{
 "cells": [
  {
   "cell_type": "code",
   "execution_count": null,
   "id": "150e00b9",
   "metadata": {},
   "outputs": [],
   "source": []
  }
 ],
 "metadata": {
  "kernelspec": {
   "display_name": "digit-reco",
   "language": "python",
   "name": "digit-reco"
  }
 },
 "nbformat": 4,
 "nbformat_minor": 5
}
